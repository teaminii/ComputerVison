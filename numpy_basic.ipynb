{
 "cells": [
  {
   "cell_type": "code",
   "execution_count": 32,
   "id": "027e00d1",
   "metadata": {},
   "outputs": [],
   "source": [
    "#배열과 관련된 거의 모든 작업을 수행할 수 있음. \n",
    "import numpy as np\n"
   ]
  },
  {
   "cell_type": "code",
   "execution_count": 47,
   "id": "952a8359",
   "metadata": {},
   "outputs": [
    {
     "name": "stdout",
     "output_type": "stream",
     "text": [
      "[1, 2, 3]\n",
      "<class 'list'>\n"
     ]
    }
   ],
   "source": [
    "list_data = [1,2,3]\n",
    "print(list_data)\n",
    "print(type(list_data))"
   ]
  },
  {
   "cell_type": "code",
   "execution_count": 48,
   "id": "6794e053",
   "metadata": {},
   "outputs": [
    {
     "name": "stdout",
     "output_type": "stream",
     "text": [
      "[1 2 3]\n"
     ]
    }
   ],
   "source": [
    "list_data = [1,2,3]\n",
    "array = np.array(list_data)  #특정 리스트 데이터(list_data) 를 numpy 자료형으로 변형   \n",
    "print(array)"
   ]
  },
  {
   "cell_type": "code",
   "execution_count": 50,
   "id": "3e60f37b",
   "metadata": {},
   "outputs": [
    {
     "name": "stdout",
     "output_type": "stream",
     "text": [
      "int32\n",
      "3\n",
      "<class 'numpy.ndarray'>\n",
      "(3,)\n"
     ]
    }
   ],
   "source": [
    "print(array.dtype)\n",
    "print(array.size)\n",
    "print(type(array))\n",
    "print(array.shape)"
   ]
  },
  {
   "cell_type": "code",
   "execution_count": 52,
   "id": "be79aed2",
   "metadata": {},
   "outputs": [
    {
     "name": "stdout",
     "output_type": "stream",
     "text": [
      "[[1]\n",
      " [1]\n",
      " [1]]\n",
      "(3, 1)\n"
     ]
    }
   ],
   "source": [
    "a = np.array([[1],[1],[1]])\n",
    "print(a)\n",
    "print(a.shape)"
   ]
  },
  {
   "cell_type": "code",
   "execution_count": 36,
   "id": "f50f6b8e",
   "metadata": {},
   "outputs": [
    {
     "name": "stdout",
     "output_type": "stream",
     "text": [
      "3\n"
     ]
    }
   ],
   "source": [
    "#numpy는 리스트와 마찬가지로 특정 index에 접근이 가능하다\n",
    "print(array[2])"
   ]
  },
  {
   "cell_type": "code",
   "execution_count": 37,
   "id": "d334c4f4",
   "metadata": {},
   "outputs": [
    {
     "name": "stdout",
     "output_type": "stream",
     "text": [
      "[0 1 2 3]\n"
     ]
    }
   ],
   "source": [
    " #0부터 3까지 배열 만들기\n",
    "array1 = np.arange(4)\n",
    "print(array1)"
   ]
  },
  {
   "cell_type": "code",
   "execution_count": 38,
   "id": "1df65055",
   "metadata": {},
   "outputs": [
    {
     "name": "stdout",
     "output_type": "stream",
     "text": [
      "[[0. 0. 0.]\n",
      " [0. 0. 0.]\n",
      " [0. 0. 0.]]\n"
     ]
    }
   ],
   "source": [
    "array2 = np.zeros((3,3), dtype = float)  #dtype 으로 숫자의 type을 지정해준다 \n",
    "print(array2)"
   ]
  },
  {
   "cell_type": "code",
   "execution_count": 39,
   "id": "abb5f0e7",
   "metadata": {},
   "outputs": [
    {
     "name": "stdout",
     "output_type": "stream",
     "text": [
      "[['1' '1' '1']\n",
      " ['1' '1' '1']\n",
      " ['1' '1' '1']]\n"
     ]
    }
   ],
   "source": [
    "array3 = np.ones((3,3), dtype = 'str')\n",
    "print(array3)"
   ]
  },
  {
   "cell_type": "code",
   "execution_count": 53,
   "id": "2f73ab74",
   "metadata": {},
   "outputs": [
    {
     "name": "stdout",
     "output_type": "stream",
     "text": [
      "[[7 7 0]\n",
      " [1 8 4]\n",
      " [6 2 1]]\n"
     ]
    }
   ],
   "source": [
    "#0부터 9까지 랜덤으로 초기화 된 배열 만들기\n",
    "array4 = np.random.randint(0,9,(3,3))  #0~8 중에 랜덤한 수로 3by3 행렬 만들기\n",
    "print(array4)"
   ]
  },
  {
   "cell_type": "code",
   "execution_count": 55,
   "id": "3d5b4d95",
   "metadata": {},
   "outputs": [
    {
     "name": "stdout",
     "output_type": "stream",
     "text": [
      "(2, 2)\n",
      "4\n",
      "[[0. 0.]\n",
      " [0. 0.]]\n",
      "(1, 2)\n",
      "2\n",
      "[[1. 1.]]\n",
      "(2, 2)\n",
      "4\n",
      "[[7 7]\n",
      " [7 7]]\n",
      "(2, 2)\n",
      "4\n",
      "[[1. 0.]\n",
      " [0. 1.]]\n",
      "[[0.9326166  0.06062956]\n",
      " [0.48181978 0.07529023]]\n"
     ]
    }
   ],
   "source": [
    "#np.zeros()\n",
    "a= np.zeros((2,2))\n",
    "print(a.shape)\n",
    "print(a.size)\n",
    "print(a)\n",
    "\n",
    "#np.ones()\n",
    "b = np.ones((1,2))\n",
    "print(b.shape)\n",
    "print(b.size)\n",
    "print(b)\n",
    "\n",
    "#np.full()\n",
    "c= np.full((2,2), 7)\n",
    "print(c.shape)\n",
    "print(c.size)\n",
    "print(c)\n",
    "\n",
    "#np.eye()\n",
    "d=np.eye(2)\n",
    "print(d.shape)\n",
    "print(d.size)\n",
    "print(d)\n",
    "\n",
    "#np.random.random()\n",
    "e = np.random.random((2,2))\n",
    "print(e)\n"
   ]
  },
  {
   "cell_type": "code",
   "execution_count": 60,
   "id": "0f1643e8",
   "metadata": {},
   "outputs": [
    {
     "name": "stdout",
     "output_type": "stream",
     "text": [
      "a [[ 1  2  3  4]\n",
      " [ 5  6  7  8]\n",
      " [ 9 10 11 12]]\n",
      "2\n",
      "b [[2 3]\n",
      " [6 7]]\n",
      "2\n",
      "77\n",
      "77\n"
     ]
    }
   ],
   "source": [
    "a=np.array([[1,2,3,4],[5,6,7,8],[9,10,11,12]])\n",
    "print(\"a\", a)\n",
    "print(a[0,1])\n",
    "\n",
    "b=a[:2,1:3]\n",
    "print(\"b\",b)\n",
    "print(a[0,1])\n",
    "b[0,0] = 77\n",
    "print(b[0,0])\n",
    "print(a[0,1])"
   ]
  },
  {
   "cell_type": "code",
   "execution_count": 41,
   "id": "e306ab86",
   "metadata": {},
   "outputs": [
    {
     "name": "stdout",
     "output_type": "stream",
     "text": [
      "[[ 0.93999159 -0.95275682 -0.37167499]\n",
      " [-0.36693241  2.10968798  0.776697  ]\n",
      " [-0.51766954  1.29721886  1.61392175]]\n"
     ]
    }
   ],
   "source": [
    "#평균이 0이고, 표준편차가 1인 표준 정규를 띄는 배열\n",
    "#표준정규분포\n",
    "\n",
    "array5=np.random.normal(0,1,(3,3))\n",
    "print(array5)"
   ]
  },
  {
   "cell_type": "code",
   "execution_count": 42,
   "id": "312dde9a",
   "metadata": {},
   "outputs": [
    {
     "name": "stdout",
     "output_type": "stream",
     "text": [
      "[1 2 3 4 5 6]\n",
      "(6,)\n"
     ]
    }
   ],
   "source": [
    "#배열 합치기 : 가로축으로 합치기\n",
    "array6 = np.array([1,2,3])\n",
    "array7 = np.array([4,5,6])\n",
    "array8 = np.concatenate([array6,array7])\n",
    "print(array8)\n",
    "print(array8.shape)\n"
   ]
  },
  {
   "cell_type": "code",
   "execution_count": 43,
   "id": "fd868c39",
   "metadata": {},
   "outputs": [
    {
     "name": "stdout",
     "output_type": "stream",
     "text": [
      "[[1 2]\n",
      " [3 4]]\n"
     ]
    }
   ],
   "source": [
    "#배열 형태 바꾸기 \n",
    "array1 = np.array([1,2,3,4])\n",
    "array2 = array1.reshape((2,2))\n",
    "print(array2)"
   ]
  },
  {
   "cell_type": "code",
   "execution_count": 44,
   "id": "6a544b81",
   "metadata": {},
   "outputs": [
    {
     "name": "stdout",
     "output_type": "stream",
     "text": [
      "[[0 1 2 3]]\n",
      "[[0 1 2 3]\n",
      " [4 5 6 7]]\n"
     ]
    }
   ],
   "source": [
    "#배열합치기 : 세로축으로 합치기 \n",
    "array1 = np.arange(4).reshape(1,4)\n",
    "array2 = np.arange(8).reshape(2,4)\n",
    "print(array1)\n",
    "print(array2)\n"
   ]
  },
  {
   "cell_type": "code",
   "execution_count": 45,
   "id": "47dd3d07",
   "metadata": {},
   "outputs": [
    {
     "name": "stdout",
     "output_type": "stream",
     "text": [
      "[[0 1 2 3]\n",
      " [0 1 2 3]\n",
      " [4 5 6 7]]\n"
     ]
    }
   ],
   "source": [
    "\n",
    "array3 = np.concatenate([array1,array2],axis = 0)\n",
    "print(array3)"
   ]
  },
  {
   "cell_type": "code",
   "execution_count": 46,
   "id": "29b367aa",
   "metadata": {},
   "outputs": [
    {
     "name": "stdout",
     "output_type": "stream",
     "text": [
      "[[0 1 2 3]\n",
      " [4 5 6 7]]\n",
      "(2, 2)\n",
      "(2, 2)\n",
      "[[0 1]\n",
      " [4 5]]\n",
      "[[2 3]\n",
      " [6 7]]\n"
     ]
    }
   ],
   "source": [
    "#형태 나누기\n",
    "\n",
    "array = np.arange(8).reshape(2,4)\n",
    "left,right = np.split(array, [2], axis = 1)  #array 를 index 2 를 기준으로 axis = 1(열)로 나눈다 \n",
    "print(array)\n",
    "print(left.shape)\n",
    "print(right.shape)\n",
    "print(left)\n",
    "print(right)"
   ]
  }
 ],
 "metadata": {
  "kernelspec": {
   "display_name": "Python 3 (ipykernel)",
   "language": "python",
   "name": "python3"
  },
  "language_info": {
   "codemirror_mode": {
    "name": "ipython",
    "version": 3
   },
   "file_extension": ".py",
   "mimetype": "text/x-python",
   "name": "python",
   "nbconvert_exporter": "python",
   "pygments_lexer": "ipython3",
   "version": "3.7.11"
  }
 },
 "nbformat": 4,
 "nbformat_minor": 5
}
