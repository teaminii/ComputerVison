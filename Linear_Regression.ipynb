{
  "nbformat": 4,
  "nbformat_minor": 0,
  "metadata": {
    "colab": {
      "name": "Linear.Regression.ipynb",
      "provenance": [],
      "authorship_tag": "ABX9TyNvFDqOc5DFL73xo36heniB",
      "include_colab_link": true
    },
    "kernelspec": {
      "name": "python3",
      "display_name": "Python 3"
    },
    "language_info": {
      "name": "python"
    },
    "accelerator": "GPU"
  },
  "cells": [
    {
      "cell_type": "markdown",
      "metadata": {
        "id": "view-in-github",
        "colab_type": "text"
      },
      "source": [
        "<a href=\"https://colab.research.google.com/github/teaminii/ComputerVison/blob/main/Linear_Regression.ipynb\" target=\"_parent\"><img src=\"https://colab.research.google.com/assets/colab-badge.svg\" alt=\"Open In Colab\"/></a>"
      ]
    },
    {
      "cell_type": "code",
      "execution_count": 6,
      "metadata": {
        "colab": {
          "base_uri": "https://localhost:8080/"
        },
        "id": "6BhTSX2OIGlU",
        "outputId": "8e8fa067-ea91-49cb-88b7-021f14a832ef"
      },
      "outputs": [
        {
          "output_type": "stream",
          "name": "stdout",
          "text": [
            "10\n",
            "10\n"
          ]
        }
      ],
      "source": [
        "##### Data Generation \n",
        "X =list(range(10))         # x = [i for i in range(10)]\n",
        "Y = [1,1,2,4,5,7,8,9,9,10]\n",
        "\n",
        "print(len(Y))\n",
        "print(len(X))"
      ]
    },
    {
      "cell_type": "code",
      "source": [
        "import matplotlib.pyplot as plt\n",
        "plt.scatter(X,Y)"
      ],
      "metadata": {
        "colab": {
          "base_uri": "https://localhost:8080/",
          "height": 283
        },
        "id": "FjnTGW5FLCzP",
        "outputId": "05d2f440-22ea-4a92-de53-fd539ec5a7c0"
      },
      "execution_count": 12,
      "outputs": [
        {
          "output_type": "execute_result",
          "data": {
            "text/plain": [
              "<matplotlib.collections.PathCollection at 0x7ff9c5dabc90>"
            ]
          },
          "metadata": {},
          "execution_count": 12
        },
        {
          "output_type": "display_data",
          "data": {
            "text/plain": [
              "<Figure size 432x288 with 1 Axes>"
            ],
            "image/png": "[encoded data removed]"
          },
          "metadata": {
            "needs_background": "light"
          }
        }
      ]
    },
    {
      "cell_type": "code",
      "source": [
        "class H():\n",
        "  def __init__(self,w):  #클래스 내부에 있는 함수 #method의 첫번째 인자는 self를 써주고 시작한다. 매서드 w로 input을 받는다. \n",
        "    self.w = w\n",
        "\n",
        "  def forward(self, x):\n",
        "    return self.w * x   #다른 메서드에서도 w를 쓰기 위해 self.w 사용 \n",
        "\n",
        "def cost(h, X, Y) :\n",
        "  error = 0\n",
        "  for i in range(len(X)):\n",
        "    error += (h.forward(X[i])-Y[i])**2\n",
        "  error = error / len(X)\n",
        "  return error\n",
        "\n",
        "h = H(4)\n",
        "print(h.w)\n",
        "print(h.forward(4))\n",
        "cost(h,X,Y)"
      ],
      "metadata": {
        "colab": {
          "base_uri": "https://localhost:8080/"
        },
        "id": "6evDN20RLG29",
        "outputId": "e5d29605-97d8-491d-940b-825ab5546adc"
      },
      "execution_count": 24,
      "outputs": [
        {
          "output_type": "stream",
          "name": "stdout",
          "text": [
            "4\n",
            "16\n"
          ]
        },
        {
          "output_type": "execute_result",
          "data": {
            "text/plain": [
              "222.2"
            ]
          },
          "metadata": {},
          "execution_count": 24
        }
      ]
    },
    {
      "cell_type": "code",
      "source": [
        "list_w = []\n",
        "list_c = []\n",
        "\n",
        "for i in range(-100, 100):\n",
        "  w = i * 0.1\n",
        "  h = H(w)\n",
        "  c = cost(h,X,Y)\n",
        "  list_w.append(w)\n",
        "  list_c.append(c)\n",
        "\n",
        "\n",
        "plt.figure(figsize=(5,5))\n",
        "plt.xlabel('w')\n",
        "plt.ylabel('cost')\n",
        "plt.scatter(list_w,list_c, s=0.1)  #list_w, list_c 의 len 값이 동일해야 error가 발생하지 않는다. "
      ],
      "metadata": {
        "colab": {
          "base_uri": "https://localhost:8080/",
          "height": 352
        },
        "id": "oqR6GgRwQzM-",
        "outputId": "0957a8f4-4717-46f0-eafb-0ac3639b7dc7"
      },
      "execution_count": 37,
      "outputs": [
        {
          "output_type": "execute_result",
          "data": {
            "text/plain": [
              "<matplotlib.collections.PathCollection at 0x7ff9c58cf8d0>"
            ]
          },
          "metadata": {},
          "execution_count": 37
        },
        {
          "output_type": "display_data",
          "data": {
            "text/plain": [
              "<Figure size 360x360 with 1 Axes>"
            ],
            "image/png": "[encoded data removed]"
          },
          "metadata": {
            "needs_background": "light"
          }
        }
      ]
    },
    {
      "cell_type": "code",
      "source": [
        "def cal_grad(w, cost):\n",
        "  h = H(w)\n",
        "  cost1 = cost(h, X, Y)\n",
        "  eps = 0.001\n",
        "  h = H(w+eps)\n",
        "  cost2 = cost(h,X,Y)\n",
        "  dcost = cost2- cost1\n",
        "  dw = eps\n",
        "  grad = dcost / dw\n",
        "  return grad\n",
        "\n",
        "w = 4\n",
        "lr = 0.01\n",
        "print(cal_grad(4,cost))\n",
        "\n",
        "for i in range(10):\n",
        "  w -= lr*cal_grad(w,cost)    #w= w + lr * (-cal_grad(w,cost))\n",
        "  print(w)"
      ],
      "metadata": {
        "colab": {
          "base_uri": "https://localhost:8080/"
        },
        "id": "VixJMXl-WXMy",
        "outputId": "83eef46a-ffe7-4c94-e64a-2a6c9287cb60"
      },
      "execution_count": 48,
      "outputs": [
        {
          "output_type": "stream",
          "name": "stdout",
          "text": [
            "159.02850000003355\n",
            "2.4097149999996645\n",
            "1.7258924499999893\n",
            "1.4318487535000344\n",
            "1.3054099640050296\n",
            "1.2510412845221694\n",
            "1.2276627523445358\n",
            "1.217609983508152\n",
            "1.2132872929085068\n",
            "1.2114285359506587\n",
            "1.210629270458786\n"
          ]
        }
      ]
    }
  ]
}