{
 "cells": [
  {
   "cell_type": "code",
   "execution_count": 1,
   "id": "3623b012",
   "metadata": {},
   "outputs": [
    {
     "name": "stdout",
     "output_type": "stream",
     "text": [
      "[[7 8]\n",
      " [2 9]]\n"
     ]
    }
   ],
   "source": [
    "import numpy as np\n",
    "array = np.random.randint(1,10,size = 4).reshape(2,2)\n",
    "print(array)"
   ]
  },
  {
   "cell_type": "code",
   "execution_count": 5,
   "id": "a8912afd",
   "metadata": {},
   "outputs": [
    {
     "name": "stdout",
     "output_type": "stream",
     "text": [
      "(2, 2)\n",
      "4\n"
     ]
    }
   ],
   "source": [
    "a = np.array([[1,2],[3,4]])\n",
    "print(a.shape)\n",
    "print(a.size)"
   ]
  },
  {
   "cell_type": "code",
   "execution_count": 7,
   "id": "465c4cf0",
   "metadata": {},
   "outputs": [
    {
     "name": "stdout",
     "output_type": "stream",
     "text": [
      "[[70 80]\n",
      " [20 90]]\n"
     ]
    }
   ],
   "source": [
    "#배열에 상수 곱하기 \n",
    "result_array = array*10\n",
    "print(result_array)"
   ]
  },
  {
   "cell_type": "code",
   "execution_count": 8,
   "id": "5f54b1cf",
   "metadata": {},
   "outputs": [
    {
     "name": "stdout",
     "output_type": "stream",
     "text": [
      "[[0 2]\n",
      " [2 4]]\n"
     ]
    }
   ],
   "source": [
    "#서로 다른 형태의 numpy 연산 : Broadcasting\n",
    "array1 = np.arange(4).reshape(2,2)\n",
    "array2 = np.arange(2)\n",
    "\n",
    "array3 = array1+array2\n",
    "print(array3)"
   ]
  },
  {
   "cell_type": "code",
   "execution_count": 12,
   "id": "b81b486e",
   "metadata": {},
   "outputs": [
    {
     "name": "stdout",
     "output_type": "stream",
     "text": [
      "[[0 1 2 3]\n",
      " [4 5 6 7]\n",
      " [0 1 2 3]\n",
      " [4 5 6 7]]\n",
      "[[0]\n",
      " [1]\n",
      " [2]\n",
      " [3]]\n",
      "[[ 4  5  6  7]\n",
      " [ 8  9 10 11]\n",
      " [ 4  5  6  7]\n",
      " [ 8  9 10 11]]\n",
      "[[ 0  1  2  3]\n",
      " [ 5  6  7  8]\n",
      " [ 2  3  4  5]\n",
      " [ 7  8  9 10]]\n"
     ]
    }
   ],
   "source": [
    "array1 = np.arange(0,8).reshape(2,4)\n",
    "array2 = np.arange(0,8).reshape(2,4)\n",
    "array3 = np.concatenate([array1,array2], axis=0)\n",
    "array4 = np.arange(0,4).reshape(4,1)\n",
    "\n",
    "\n",
    "print(array3)\n",
    "print(array4)\n",
    "print(array3+4)\n",
    "print(array3+array4)\n"
   ]
  },
  {
   "cell_type": "code",
   "execution_count": 14,
   "id": "70cbbc37",
   "metadata": {},
   "outputs": [
    {
     "name": "stdout",
     "output_type": "stream",
     "text": [
      "[[ 0  1  2  3]\n",
      " [ 4  5  6  7]\n",
      " [ 8  9 10 11]\n",
      " [12 13 14 15]]\n",
      "[[ True  True  True  True]\n",
      " [ True  True  True  True]\n",
      " [ True  True False False]\n",
      " [False False False False]]\n"
     ]
    }
   ],
   "source": [
    "#마스킹연산 : 각 원소에 대하여 체크 함\n",
    "array1 = np.arange(16).reshape(4,4)\n",
    "print(array1)\n",
    "array2 = array1<10\n",
    "print(array2)\n"
   ]
  },
  {
   "cell_type": "code",
   "execution_count": 16,
   "id": "3a1e5bb4",
   "metadata": {},
   "outputs": [
    {
     "name": "stdout",
     "output_type": "stream",
     "text": [
      "[[100 100 100 100]\n",
      " [100 100 100 100]\n",
      " [100 100  10  11]\n",
      " [ 12  13  14  15]]\n"
     ]
    }
   ],
   "source": [
    "#array 2가 True인 값만 100을 대입  ~ 색상이 너무 밝을 때 값을 바꿔주는 등..\n",
    "#조건문을 활용해 작업하는 것보다 마스킹 연산이 훨씬 빠름\n",
    "\n",
    "array1[array2] = 100   \n",
    "print(array1)"
   ]
  },
  {
   "cell_type": "code",
   "execution_count": 21,
   "id": "cb2a4cf9",
   "metadata": {},
   "outputs": [
    {
     "name": "stdout",
     "output_type": "stream",
     "text": [
      "최댓값 :  15\n",
      "최솟값 :  0\n",
      "합계 :  120\n",
      "평균값 :  7.5\n"
     ]
    }
   ],
   "source": [
    "#집계함수\n",
    "array = np.arange(16).reshape(4,4)\n",
    "print(\"최댓값 : \",np.max(array))\n",
    "print(\"최솟값 : \",np.min(array))\n",
    "print(\"합계 : \",np.sum(array))\n",
    "print(\"평균값 : \", np.mean(array))"
   ]
  },
  {
   "cell_type": "code",
   "execution_count": 23,
   "id": "45c6e495",
   "metadata": {},
   "outputs": [
    {
     "name": "stdout",
     "output_type": "stream",
     "text": [
      "[[ 0  1  2  3]\n",
      " [ 4  5  6  7]\n",
      " [ 8  9 10 11]\n",
      " [12 13 14 15]]\n",
      "합계:  [24 28 32 36]\n"
     ]
    }
   ],
   "source": [
    "print(array)\n",
    "print(\"합계: \",np.sum(array, axis=0))  #행을 기준으로 더한다."
   ]
  },
  {
   "cell_type": "code",
   "execution_count": null,
   "id": "d56f2658",
   "metadata": {},
   "outputs": [],
   "source": []
  }
 ],
 "metadata": {
  "kernelspec": {
   "display_name": "Python 3 (ipykernel)",
   "language": "python",
   "name": "python3"
  },
  "language_info": {
   "codemirror_mode": {
    "name": "ipython",
    "version": 3
   },
   "file_extension": ".py",
   "mimetype": "text/x-python",
   "name": "python",
   "nbconvert_exporter": "python",
   "pygments_lexer": "ipython3",
   "version": "3.7.11"
  }
 },
 "nbformat": 4,
 "nbformat_minor": 5
}
