{
 "cells": [
  {
   "cell_type": "code",
   "execution_count": 2,
   "id": "12ea4924",
   "metadata": {},
   "outputs": [],
   "source": [
    "import numpy as np"
   ]
  },
  {
   "cell_type": "code",
   "execution_count": 4,
   "id": "38702738",
   "metadata": {},
   "outputs": [
    {
     "name": "stdout",
     "output_type": "stream",
     "text": [
      "[0 1 2 3 4 5 6 7 8 9]\n"
     ]
    }
   ],
   "source": [
    "#numpy 저장/불러오기\n",
    "#1.단일 객체 저장 : np.save()\n",
    "array = np.arange(0,10)\n",
    "np.save('saved.npy',array)\n",
    "#2.단일 객체 불러오기 : np.load\n",
    "result = np.load('saved.npy')\n",
    "print(result)"
   ]
  },
  {
   "cell_type": "code",
   "execution_count": 5,
   "id": "6bef2d85",
   "metadata": {},
   "outputs": [],
   "source": [
    "#복수 객체 저장 : np.savez()\n",
    "array1 = np.arange(0,10)\n",
    "array2 = np.arange(10,20)\n",
    "np.savez('saved.npz',arr1=array1, arr2=array2)"
   ]
  },
  {
   "cell_type": "code",
   "execution_count": 6,
   "id": "d61c6dd9",
   "metadata": {},
   "outputs": [
    {
     "name": "stdout",
     "output_type": "stream",
     "text": [
      "[0 1 2 3 4 5 6 7 8 9]\n",
      "[10 11 12 13 14 15 16 17 18 19]\n"
     ]
    }
   ],
   "source": [
    "#복수 객체 불러오기 : np.load\n",
    "data = np.load('saved.npz')\n",
    "result1 = data['arr1']\n",
    "result2 = data['arr2']\n",
    "print(result1)\n",
    "print(result2)"
   ]
  },
  {
   "cell_type": "code",
   "execution_count": 7,
   "id": "07cae765",
   "metadata": {},
   "outputs": [
    {
     "name": "stdout",
     "output_type": "stream",
     "text": [
      "[ 5  9 10  3  1]\n",
      "[ 1  3  5  9 10]\n"
     ]
    }
   ],
   "source": [
    "#numpy 원소 오름차순 정렬\n",
    "array = np.array([5,9,10,3,1])\n",
    "print(array)\n",
    "array.sort()\n",
    "print(array)\n"
   ]
  },
  {
   "cell_type": "code",
   "execution_count": 8,
   "id": "ee8ec461",
   "metadata": {},
   "outputs": [
    {
     "name": "stdout",
     "output_type": "stream",
     "text": [
      "[10  9  5  3  1]\n"
     ]
    }
   ],
   "source": [
    "#내림차순\n",
    "print(array[::-1])"
   ]
  },
  {
   "cell_type": "code",
   "execution_count": 12,
   "id": "371d5b69",
   "metadata": {},
   "outputs": [
    {
     "name": "stdout",
     "output_type": "stream",
     "text": [
      "[[ 5  9 10  3  1]\n",
      " [ 8  3  4  2  5]]\n",
      "[[ 5  3  4  2  1]\n",
      " [ 8  9 10  3  5]]\n"
     ]
    }
   ],
   "source": [
    "#각 열을 기준으로 정렬\n",
    "array = np.array([[5,9,10,3,1],[8,3,4,2,5]])\n",
    "print(array)\n",
    "array.sort(axis = 0)\n",
    "print(array)"
   ]
  },
  {
   "cell_type": "code",
   "execution_count": 13,
   "id": "01af7a6b",
   "metadata": {},
   "outputs": [
    {
     "name": "stdout",
     "output_type": "stream",
     "text": [
      "[ 0.   2.5  5.   7.5 10. ]\n"
     ]
    }
   ],
   "source": [
    "#균일한 간격으로 데이터 생성\n",
    "#np.linspace(start_vlaue, end_value, 개수)\n",
    "array = np.linspace(0,10,5) \n",
    "print(array)"
   ]
  },
  {
   "cell_type": "code",
   "execution_count": 18,
   "id": "860865df",
   "metadata": {},
   "outputs": [
    {
     "name": "stdout",
     "output_type": "stream",
     "text": [
      "[[0 3 0]\n",
      " [4 4 3]]\n"
     ]
    }
   ],
   "source": [
    "#난수(random 값)의 재연\n",
    "#실행마다 결과 달라짐)\n",
    "print(np.random.randint(0,10,(2,3)))"
   ]
  },
  {
   "cell_type": "code",
   "execution_count": 19,
   "id": "3ee64077",
   "metadata": {},
   "outputs": [
    {
     "name": "stdout",
     "output_type": "stream",
     "text": [
      "[[4 9 6]\n",
      " [3 3 7]]\n"
     ]
    }
   ],
   "source": [
    "#실행마다 결과 동일\n",
    "np.random.seed(7)\n",
    "print(np.random.randint(0,10,(2,3)))"
   ]
  },
  {
   "cell_type": "code",
   "execution_count": 21,
   "id": "8d8abc3f",
   "metadata": {},
   "outputs": [
    {
     "name": "stdout",
     "output_type": "stream",
     "text": [
      "[0 1 2 3 4 5 6 7 8 9]\n",
      "[99  1  2  3  4  5  6  7  8  9]\n"
     ]
    }
   ],
   "source": [
    "#numpy 배열 객체 복사 - 메모리를 공유 \n",
    "array1 = np.arange(0,10)\n",
    "print(array1)\n",
    "array2 = array1\n",
    "array2[0]=99\n",
    "print(array1)"
   ]
  },
  {
   "cell_type": "code",
   "execution_count": 22,
   "id": "f5d8986a",
   "metadata": {},
   "outputs": [
    {
     "name": "stdout",
     "output_type": "stream",
     "text": [
      "[0 1 2 3 4 5 6 7 8 9]\n",
      "[0 1 2 3 4 5 6 7 8 9]\n"
     ]
    }
   ],
   "source": [
    "#numpy 배열 객체 복사 \n",
    "array1 = np.arange(0,10)\n",
    "print(array1)\n",
    "array2 = array1.copy()\n",
    "array2[0]=99\n",
    "print(array1)"
   ]
  },
  {
   "cell_type": "code",
   "execution_count": 23,
   "id": "9ced7edf",
   "metadata": {},
   "outputs": [
    {
     "name": "stdout",
     "output_type": "stream",
     "text": [
      "[1 2 3 4]\n"
     ]
    }
   ],
   "source": [
    "#중복된 원소 제거 : np.unique()\n",
    "array = np.array([1,1,2,2,2,3,3,4])\n",
    "print(np.unique(array))"
   ]
  },
  {
   "cell_type": "code",
   "execution_count": null,
   "id": "8b260e99",
   "metadata": {},
   "outputs": [],
   "source": []
  }
 ],
 "metadata": {
  "kernelspec": {
   "display_name": "Python 3 (ipykernel)",
   "language": "python",
   "name": "python3"
  },
  "language_info": {
   "codemirror_mode": {
    "name": "ipython",
    "version": 3
   },
   "file_extension": ".py",
   "mimetype": "text/x-python",
   "name": "python",
   "nbconvert_exporter": "python",
   "pygments_lexer": "ipython3",
   "version": "3.7.11"
  }
 },
 "nbformat": 4,
 "nbformat_minor": 5
}
